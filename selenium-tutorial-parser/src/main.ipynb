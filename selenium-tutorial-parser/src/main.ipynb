{
 "cells": [
  {
   "cell_type": "code",
   "execution_count": 4,
   "metadata": {},
   "outputs": [],
   "source": [
    "import os\n",
    "import time\n",
    "from dotenv import load_dotenv\n",
    "from selenium import webdriver\n",
    "from selenium.webdriver.chrome.options import Options\n",
    "\n",
    "load_dotenv()\n",
    "webpage = os.getenv(\"WEBPAGE\")\n",
    "\n",
    "options = Options()\n",
    "options.add_experimental_option(\"debuggerAddress\", \"127.0.0.1:9222\")\n",
    "# options.binary_location = r\"C:\\Program Files\\BraveSoftware\\Brave-Browser\\Application\\brave.exe\"\n",
    "driver = webdriver.Chrome(options=options)\n",
    "# driver.get(webpage)"
   ]
  },
  {
   "cell_type": "code",
   "execution_count": 5,
   "metadata": {},
   "outputs": [
    {
     "name": "stdout",
     "output_type": "stream",
     "text": [
      "https://www.udemy.com/course/setting-up-the-linux-terminal-for-software-development/learn/lecture/36451594?start=15#overview\n"
     ]
    }
   ],
   "source": [
    "print(driver.current_url)"
   ]
  },
  {
   "cell_type": "code",
   "execution_count": null,
   "metadata": {},
   "outputs": [
    {
     "name": "stdout",
     "output_type": "stream",
     "text": [
      "https://www.udemy.com/course/setting-up-the-linux-terminal-for-software-development/learn/lecture/38678652#overview\n"
     ]
    }
   ],
   "source": [
    "import time\n",
    "from pathlib import Path\n",
    "from selenium.webdriver.common.by import By\n",
    "from selenium.webdriver.support.ui import WebDriverWait\n",
    "from selenium.webdriver.support import expected_conditions as EC\n",
    "\n",
    "print(driver.current_url)\n",
    "\n",
    "# Expand all sections\n",
    "elements = driver.find_elements(by=By.XPATH, value='//button[@class = \"ud-btn ud-btn-medium ud-btn-link ud-heading-md js-panel-toggler accordion-panel-module--panel-toggler--WUiNu\"]')\n",
    "for element in elements:\n",
    "    # print(element.text)\n",
    "    expanded = element.get_attribute(\"aria-expanded\")\n",
    "    if not expanded:\n",
    "        element.click()\n",
    "        time.sleep(0.25)\n",
    "\n",
    "# Change the class ID accordingly\n",
    "elements = driver.find_elements(by=By.XPATH, value='//span[@class = \"truncate-with-tooltip--ellipsis--YJw4N \"]')\n",
    "\n",
    "# for element in elements:\n",
    "#     print(element.text)\n",
    "\n",
    "# Create section folder, edit according to the section name\n",
    "# section = [item for item in elements if not item.text[0].isdigit() and item.text[0] == \"S\"]\n",
    "# for element in section:\n",
    "#     pass\n",
    "#     # print(element.text)\n",
    "#     # Path.cwd().joinpath(element.text.replace(\":\", \" -\")).mkdir(parents=True, exist_ok=True)\n",
    "\n",
    "title = [item for item in elements]\n",
    "for element in title:\n",
    "    pass\n",
    "    # print(element.text)\n",
    "\n",
    "\n",
    "\n",
    "    # parent = element.find_element(by=By.XPATH, value='..')\n",
    "    # print(parent.tag_name)\n"
   ]
  },
  {
   "cell_type": "code",
   "execution_count": null,
   "metadata": {},
   "outputs": [
    {
     "name": "stdout",
     "output_type": "stream",
     "text": [
      "Section 1: Introduction, Lecture 1: Introduction\n",
      "Media is playing\n",
      "Play button does not exist.\n",
      "Cancel button does not exist.\n",
      "Go to next button does not exist.\n",
      "Go to next right button\n"
     ]
    }
   ],
   "source": [
    "\"\"\" Mouse Movement, Control Media Button\n",
    "1. Check if<span data-purpose=\"current-time\">0:00</span> exist.\n",
    "    1. If not pressed `next`.\n",
    "2. Check if video is playing or paused.\n",
    "\"\"\"\n",
    "\n",
    "import time\n",
    "\n",
    "from selenium.webdriver.common.by import By\n",
    "from selenium.webdriver.support.wait import WebDriverWait\n",
    "from selenium.webdriver.support import expected_conditions as EC\n",
    "from selenium.webdriver import ActionChains\n",
    "\n",
    "is_media_video: bool = False\n",
    "is_media_playing: bool = False\n",
    "is_media_paused: bool = False\n",
    "media_title: str = \"\"\n",
    "\n",
    "# ActionChains(driver).move_by_offset(15, 15).perform()\n",
    "\n",
    "# Check media title\n",
    "try:\n",
    "    element = WebDriverWait(driver, 2).until(\n",
    "        EC.presence_of_element_located((By.XPATH, '//section[@class = \"lecture-view--container--mrZSm\"]'))\n",
    "    )\n",
    "    media_title = element.get_attribute(\"aria-label\")\n",
    "    print(f\"{media_title}\")\n",
    "except:\n",
    "    print(\"Unable to find media title.\")\n",
    "\n",
    "# Check if media is playing by checking the pause button\n",
    "try:\n",
    "    element = WebDriverWait(driver, 2).until(\n",
    "        EC.presence_of_element_located((By.XPATH, '//button[@data-purpose = \"pause-button\"]'))\n",
    "    )\n",
    "    is_media_playing = True\n",
    "    is_media_paused = False\n",
    "    print(\"Media is playing\")\n",
    "except:\n",
    "    print(\"Paused button does not exist.\")\n",
    "\n",
    "# Check if media is paused by checking the play button\n",
    "try:\n",
    "    element = WebDriverWait(driver, 2).until(\n",
    "        EC.presence_of_element_located((By.XPATH, '//button[@data-purpose = \"play-button\"]'))\n",
    "    )\n",
    "    is_media_playing = False\n",
    "    is_media_paused = True\n",
    "    print(\"Media is paused\")\n",
    "except:\n",
    "    print(\"Play button does not exist.\")\n",
    "\n",
    "is_media_video = False\n",
    "if is_media_playing != is_media_paused:\n",
    "    is_media_video = True\n",
    "\n",
    "# Check if cancel button exist\n",
    "try:\n",
    "    element = WebDriverWait(driver, 2).until(\n",
    "        EC.presence_of_element_located((By.XPATH, '//button[@data-purpose = \"cancel-button\"]'))\n",
    "    )\n",
    "    print(\"End of video.\")\n",
    "except:\n",
    "    print(\"Cancel button does not exist.\")\n",
    "\n",
    "# Check if go to next center button exist; use for checking if media has done playing.\n",
    "try:\n",
    "    element = WebDriverWait(driver, 2).until(\n",
    "        EC.presence_of_element_located((By.XPATH, '//div[@data-purpose = \"go-to-next-button\"]'))\n",
    "    )\n",
    "    print(\"Go to next button\")\n",
    "    # element.click()\n",
    "except:\n",
    "    print(\"Go to next button does not exist.\")\n",
    "\n",
    "# Check if go to next right button exist\n",
    "try:\n",
    "    element = WebDriverWait(driver, 2).until(\n",
    "        EC.presence_of_element_located((By.XPATH, '//div[@data-purpose = \"go-to-next\"]'))\n",
    "    )\n",
    "    print(\"Go to next right button\")\n",
    "    # element.click()\n",
    "except:\n",
    "    print(\"Go to next right button does not exist.\")\n"
   ]
  }
 ],
 "metadata": {
  "kernelspec": {
   "display_name": ".venv",
   "language": "python",
   "name": "python3"
  },
  "language_info": {
   "codemirror_mode": {
    "name": "ipython",
    "version": 3
   },
   "file_extension": ".py",
   "mimetype": "text/x-python",
   "name": "python",
   "nbconvert_exporter": "python",
   "pygments_lexer": "ipython3",
   "version": "3.13.1"
  }
 },
 "nbformat": 4,
 "nbformat_minor": 2
}
